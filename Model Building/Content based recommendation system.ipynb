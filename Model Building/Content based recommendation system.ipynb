{
 "cells": [
  {
   "cell_type": "code",
   "execution_count": 1,
   "id": "5f5c0ef3",
   "metadata": {},
   "outputs": [],
   "source": [
    "import warnings\n",
    "warnings.filterwarnings(action=\"ignore\")\n",
    "import numpy as np\n",
    "import pandas as pd\n",
    "import matplotlib.pyplot as plt\n",
    "import seaborn as sns"
   ]
  },
  {
   "cell_type": "markdown",
   "id": "a7f59ed5",
   "metadata": {},
   "source": [
    "## 1. Users.csv"
   ]
  },
  {
   "cell_type": "code",
   "execution_count": 2,
   "id": "bd869ca0",
   "metadata": {},
   "outputs": [],
   "source": [
    "user=pd.read_csv(\"../Dataset/user.csv\")"
   ]
  },
  {
   "cell_type": "markdown",
   "id": "e5eb1109",
   "metadata": {},
   "source": [
    "1. test  =  total \n",
    "2. relationship = information joining both the dataframes\n",
    "3. user = information about the user\n",
    "4. content = information about only the content"
   ]
  },
  {
   "cell_type": "code",
   "execution_count": 3,
   "id": "68e6d751",
   "metadata": {},
   "outputs": [
    {
     "data": {
      "text/html": [
       "<div>\n",
       "<style scoped>\n",
       "    .dataframe tbody tr th:only-of-type {\n",
       "        vertical-align: middle;\n",
       "    }\n",
       "\n",
       "    .dataframe tbody tr th {\n",
       "        vertical-align: top;\n",
       "    }\n",
       "\n",
       "    .dataframe thead th {\n",
       "        text-align: right;\n",
       "    }\n",
       "</style>\n",
       "<table border=\"1\" class=\"dataframe\">\n",
       "  <thead>\n",
       "    <tr style=\"text-align: right;\">\n",
       "      <th></th>\n",
       "      <th>user_id</th>\n",
       "      <th>user_age</th>\n",
       "      <th>gender</th>\n",
       "      <th>location</th>\n",
       "      <th>joining_date</th>\n",
       "    </tr>\n",
       "  </thead>\n",
       "  <tbody>\n",
       "    <tr>\n",
       "      <th>0</th>\n",
       "      <td>user_45028@domain.com</td>\n",
       "      <td>40</td>\n",
       "      <td>M</td>\n",
       "      <td>Goa</td>\n",
       "      <td>2018-06-18</td>\n",
       "    </tr>\n",
       "    <tr>\n",
       "      <th>1</th>\n",
       "      <td>user_95235@domain.com</td>\n",
       "      <td>55</td>\n",
       "      <td>F</td>\n",
       "      <td>Andhra Pradesh</td>\n",
       "      <td>2019-09-17</td>\n",
       "    </tr>\n",
       "    <tr>\n",
       "      <th>2</th>\n",
       "      <td>user_44289@domain.com</td>\n",
       "      <td>38</td>\n",
       "      <td>F</td>\n",
       "      <td>Goa</td>\n",
       "      <td>2018-09-03</td>\n",
       "    </tr>\n",
       "    <tr>\n",
       "      <th>3</th>\n",
       "      <td>user_23708@domain.com</td>\n",
       "      <td>47</td>\n",
       "      <td>F</td>\n",
       "      <td>West Bengal</td>\n",
       "      <td>2020-11-15</td>\n",
       "    </tr>\n",
       "    <tr>\n",
       "      <th>4</th>\n",
       "      <td>user_40584@domain.com</td>\n",
       "      <td>24</td>\n",
       "      <td>M</td>\n",
       "      <td>Tamil Nadu</td>\n",
       "      <td>2018-02-06</td>\n",
       "    </tr>\n",
       "  </tbody>\n",
       "</table>\n",
       "</div>"
      ],
      "text/plain": [
       "                 user_id  user_age gender        location joining_date\n",
       "0  user_45028@domain.com        40      M             Goa   2018-06-18\n",
       "1  user_95235@domain.com        55      F  Andhra Pradesh   2019-09-17\n",
       "2  user_44289@domain.com        38      F             Goa   2018-09-03\n",
       "3  user_23708@domain.com        47      F     West Bengal   2020-11-15\n",
       "4  user_40584@domain.com        24      M      Tamil Nadu   2018-02-06"
      ]
     },
     "execution_count": 3,
     "metadata": {},
     "output_type": "execute_result"
    }
   ],
   "source": [
    "#user table analysis\n",
    "user.head(5)"
   ]
  },
  {
   "cell_type": "code",
   "execution_count": 4,
   "id": "32d2c0b9",
   "metadata": {},
   "outputs": [
    {
     "name": "stdout",
     "output_type": "stream",
     "text": [
      "The structure of the dataframe (13843, 5)\n"
     ]
    }
   ],
   "source": [
    "print(\"The structure of the dataframe\",user.shape)"
   ]
  },
  {
   "cell_type": "code",
   "execution_count": 5,
   "id": "db1d518f",
   "metadata": {},
   "outputs": [
    {
     "name": "stdout",
     "output_type": "stream",
     "text": [
      "Statistics of gender, location and joining date\n"
     ]
    },
    {
     "data": {
      "text/html": [
       "<div>\n",
       "<style scoped>\n",
       "    .dataframe tbody tr th:only-of-type {\n",
       "        vertical-align: middle;\n",
       "    }\n",
       "\n",
       "    .dataframe tbody tr th {\n",
       "        vertical-align: top;\n",
       "    }\n",
       "\n",
       "    .dataframe thead th {\n",
       "        text-align: right;\n",
       "    }\n",
       "</style>\n",
       "<table border=\"1\" class=\"dataframe\">\n",
       "  <thead>\n",
       "    <tr style=\"text-align: right;\">\n",
       "      <th></th>\n",
       "      <th>gender</th>\n",
       "      <th>location</th>\n",
       "      <th>joining_date</th>\n",
       "    </tr>\n",
       "  </thead>\n",
       "  <tbody>\n",
       "    <tr>\n",
       "      <th>count</th>\n",
       "      <td>13843</td>\n",
       "      <td>13843</td>\n",
       "      <td>13843</td>\n",
       "    </tr>\n",
       "    <tr>\n",
       "      <th>unique</th>\n",
       "      <td>2</td>\n",
       "      <td>29</td>\n",
       "      <td>1188</td>\n",
       "    </tr>\n",
       "    <tr>\n",
       "      <th>top</th>\n",
       "      <td>M</td>\n",
       "      <td>Maharashtra</td>\n",
       "      <td>2018-05-17</td>\n",
       "    </tr>\n",
       "    <tr>\n",
       "      <th>freq</th>\n",
       "      <td>6958</td>\n",
       "      <td>2111</td>\n",
       "      <td>25</td>\n",
       "    </tr>\n",
       "  </tbody>\n",
       "</table>\n",
       "</div>"
      ],
      "text/plain": [
       "       gender     location joining_date\n",
       "count   13843        13843        13843\n",
       "unique      2           29         1188\n",
       "top         M  Maharashtra   2018-05-17\n",
       "freq     6958         2111           25"
      ]
     },
     "execution_count": 5,
     "metadata": {},
     "output_type": "execute_result"
    }
   ],
   "source": [
    "print(\"Statistics of gender, location and joining date\")\n",
    "user.drop('user_id',axis=1).describe(include='object')"
   ]
  },
  {
   "cell_type": "code",
   "execution_count": 6,
   "id": "730fa460",
   "metadata": {},
   "outputs": [
    {
     "name": "stdout",
     "output_type": "stream",
     "text": [
      "Statistics of users age\n"
     ]
    },
    {
     "data": {
      "text/html": [
       "<div>\n",
       "<style scoped>\n",
       "    .dataframe tbody tr th:only-of-type {\n",
       "        vertical-align: middle;\n",
       "    }\n",
       "\n",
       "    .dataframe tbody tr th {\n",
       "        vertical-align: top;\n",
       "    }\n",
       "\n",
       "    .dataframe thead th {\n",
       "        text-align: right;\n",
       "    }\n",
       "</style>\n",
       "<table border=\"1\" class=\"dataframe\">\n",
       "  <thead>\n",
       "    <tr style=\"text-align: right;\">\n",
       "      <th></th>\n",
       "      <th>user_age</th>\n",
       "    </tr>\n",
       "  </thead>\n",
       "  <tbody>\n",
       "    <tr>\n",
       "      <th>count</th>\n",
       "      <td>13843.000000</td>\n",
       "    </tr>\n",
       "    <tr>\n",
       "      <th>mean</th>\n",
       "      <td>37.990248</td>\n",
       "    </tr>\n",
       "    <tr>\n",
       "      <th>std</th>\n",
       "      <td>12.958169</td>\n",
       "    </tr>\n",
       "    <tr>\n",
       "      <th>min</th>\n",
       "      <td>16.000000</td>\n",
       "    </tr>\n",
       "    <tr>\n",
       "      <th>25%</th>\n",
       "      <td>27.000000</td>\n",
       "    </tr>\n",
       "    <tr>\n",
       "      <th>50%</th>\n",
       "      <td>38.000000</td>\n",
       "    </tr>\n",
       "    <tr>\n",
       "      <th>75%</th>\n",
       "      <td>49.000000</td>\n",
       "    </tr>\n",
       "    <tr>\n",
       "      <th>max</th>\n",
       "      <td>60.000000</td>\n",
       "    </tr>\n",
       "  </tbody>\n",
       "</table>\n",
       "</div>"
      ],
      "text/plain": [
       "           user_age\n",
       "count  13843.000000\n",
       "mean      37.990248\n",
       "std       12.958169\n",
       "min       16.000000\n",
       "25%       27.000000\n",
       "50%       38.000000\n",
       "75%       49.000000\n",
       "max       60.000000"
      ]
     },
     "execution_count": 6,
     "metadata": {},
     "output_type": "execute_result"
    }
   ],
   "source": [
    "print(\"Statistics of users age\")\n",
    "user.describe(include=[np.number])"
   ]
  },
  {
   "cell_type": "code",
   "execution_count": 7,
   "id": "6e46dbc7",
   "metadata": {},
   "outputs": [
    {
     "data": {
      "image/png": "[encoded data removed]",
      "text/plain": [
       "<Figure size 1440x360 with 1 Axes>"
      ]
     },
     "metadata": {
      "needs_background": "light"
     },
     "output_type": "display_data"
    }
   ],
   "source": [
    "plt.figure(figsize =  (20,5))\n",
    "sns.countplot(user['user_age'],hue =user['gender'],data = user)\n",
    "plt.title(\"Age distrbution\")\n",
    "plt.xlabel('Count of user')\n",
    "plt.ylabel('users age')\n",
    "plt.show()"
   ]
  },
  {
   "cell_type": "markdown",
   "id": "c26d71a2",
   "metadata": {},
   "source": [
    "### what are the different locations from which the user accessed our content?"
   ]
  },
  {
   "cell_type": "code",
   "execution_count": 8,
   "id": "c7809d69",
   "metadata": {},
   "outputs": [
    {
     "name": "stdout",
     "output_type": "stream",
     "text": [
      "Total No. of locations from which the users accessed the content is  29\n"
     ]
    },
    {
     "data": {
      "image/png": "[encoded data removed]",
      "text/plain": [
       "<Figure size 1440x360 with 1 Axes>"
      ]
     },
     "metadata": {
      "needs_background": "light"
     },
     "output_type": "display_data"
    }
   ],
   "source": [
    "print (\"Total No. of locations from which the users accessed the content is \", len(user['location'].unique()))\n",
    "location = user['location'].value_counts(ascending= False)[:15].reset_index()\n",
    "plt.figure(figsize=(20,5))\n",
    "sns.barplot(location['index'],location['location'])\n",
    "plt.title(\"No. of user from Top 15 locations\")\n",
    "plt.xlabel('States')\n",
    "plt.ylabel('Count  of users')\n",
    "plt.show()"
   ]
  },
  {
   "cell_type": "markdown",
   "id": "0730a23a",
   "metadata": {},
   "source": [
    "## 2.  content.csv"
   ]
  },
  {
   "cell_type": "code",
   "execution_count": 9,
   "id": "12d6b240",
   "metadata": {
    "scrolled": true
   },
   "outputs": [
    {
     "data": {
      "text/html": [
       "<div>\n",
       "<style scoped>\n",
       "    .dataframe tbody tr th:only-of-type {\n",
       "        vertical-align: middle;\n",
       "    }\n",
       "\n",
       "    .dataframe tbody tr th {\n",
       "        vertical-align: top;\n",
       "    }\n",
       "\n",
       "    .dataframe thead th {\n",
       "        text-align: right;\n",
       "    }\n",
       "</style>\n",
       "<table border=\"1\" class=\"dataframe\">\n",
       "  <thead>\n",
       "    <tr style=\"text-align: right;\">\n",
       "      <th></th>\n",
       "      <th>content_id</th>\n",
       "      <th>content_type</th>\n",
       "      <th>language</th>\n",
       "      <th>genre</th>\n",
       "      <th>duration</th>\n",
       "      <th>release_date</th>\n",
       "      <th>rating</th>\n",
       "      <th>episode_count</th>\n",
       "      <th>season_count</th>\n",
       "    </tr>\n",
       "  </thead>\n",
       "  <tbody>\n",
       "    <tr>\n",
       "      <th>0</th>\n",
       "      <td>cont_475_19_32</td>\n",
       "      <td>series</td>\n",
       "      <td>english</td>\n",
       "      <td>drama</td>\n",
       "      <td>4980000</td>\n",
       "      <td>2018-07-01</td>\n",
       "      <td>10</td>\n",
       "      <td>32</td>\n",
       "      <td>19</td>\n",
       "    </tr>\n",
       "    <tr>\n",
       "      <th>1</th>\n",
       "      <td>cont_2185_15_21</td>\n",
       "      <td>series</td>\n",
       "      <td>english</td>\n",
       "      <td>drama</td>\n",
       "      <td>3000000</td>\n",
       "      <td>2016-03-29</td>\n",
       "      <td>4</td>\n",
       "      <td>21</td>\n",
       "      <td>15</td>\n",
       "    </tr>\n",
       "    <tr>\n",
       "      <th>2</th>\n",
       "      <td>cont_4857_13_28</td>\n",
       "      <td>series</td>\n",
       "      <td>tamil</td>\n",
       "      <td>comedy</td>\n",
       "      <td>3120000</td>\n",
       "      <td>2006-03-06</td>\n",
       "      <td>8</td>\n",
       "      <td>28</td>\n",
       "      <td>13</td>\n",
       "    </tr>\n",
       "  </tbody>\n",
       "</table>\n",
       "</div>"
      ],
      "text/plain": [
       "        content_id content_type language   genre  duration release_date  \\\n",
       "0   cont_475_19_32       series  english   drama   4980000   2018-07-01   \n",
       "1  cont_2185_15_21       series  english   drama   3000000   2016-03-29   \n",
       "2  cont_4857_13_28       series    tamil  comedy   3120000   2006-03-06   \n",
       "\n",
       "   rating  episode_count  season_count  \n",
       "0      10             32            19  \n",
       "1       4             21            15  \n",
       "2       8             28            13  "
      ]
     },
     "execution_count": 9,
     "metadata": {},
     "output_type": "execute_result"
    }
   ],
   "source": [
    "content=pd.read_csv(\"../Dataset/content.csv\")\n",
    "# content table analysis\n",
    "content.head(3)"
   ]
  },
  {
   "cell_type": "code",
   "execution_count": 10,
   "id": "b5ff58b7",
   "metadata": {},
   "outputs": [
    {
     "name": "stdout",
     "output_type": "stream",
     "text": [
      "Statistical Information about the categorical columns content type, language, genre, release date\n"
     ]
    },
    {
     "data": {
      "text/html": [
       "<div>\n",
       "<style scoped>\n",
       "    .dataframe tbody tr th:only-of-type {\n",
       "        vertical-align: middle;\n",
       "    }\n",
       "\n",
       "    .dataframe tbody tr th {\n",
       "        vertical-align: top;\n",
       "    }\n",
       "\n",
       "    .dataframe thead th {\n",
       "        text-align: right;\n",
       "    }\n",
       "</style>\n",
       "<table border=\"1\" class=\"dataframe\">\n",
       "  <thead>\n",
       "    <tr style=\"text-align: right;\">\n",
       "      <th></th>\n",
       "      <th>content_type</th>\n",
       "      <th>language</th>\n",
       "      <th>genre</th>\n",
       "      <th>release_date</th>\n",
       "    </tr>\n",
       "  </thead>\n",
       "  <tbody>\n",
       "    <tr>\n",
       "      <th>count</th>\n",
       "      <td>48645</td>\n",
       "      <td>48645</td>\n",
       "      <td>48645</td>\n",
       "      <td>48645</td>\n",
       "    </tr>\n",
       "    <tr>\n",
       "      <th>unique</th>\n",
       "      <td>4</td>\n",
       "      <td>11</td>\n",
       "      <td>22</td>\n",
       "      <td>10471</td>\n",
       "    </tr>\n",
       "    <tr>\n",
       "      <th>top</th>\n",
       "      <td>series</td>\n",
       "      <td>hindi</td>\n",
       "      <td>drama</td>\n",
       "      <td>2012-12-27</td>\n",
       "    </tr>\n",
       "    <tr>\n",
       "      <th>freq</th>\n",
       "      <td>45261</td>\n",
       "      <td>23912</td>\n",
       "      <td>22991</td>\n",
       "      <td>17</td>\n",
       "    </tr>\n",
       "  </tbody>\n",
       "</table>\n",
       "</div>"
      ],
      "text/plain": [
       "       content_type language  genre release_date\n",
       "count         48645    48645  48645        48645\n",
       "unique            4       11     22        10471\n",
       "top          series    hindi  drama   2012-12-27\n",
       "freq          45261    23912  22991           17"
      ]
     },
     "execution_count": 10,
     "metadata": {},
     "output_type": "execute_result"
    }
   ],
   "source": [
    "print(\"Statistical Information about the categorical columns content type, language, genre, release date\")\n",
    "content.drop('content_id',axis=1).describe(include='object')"
   ]
  },
  {
   "cell_type": "code",
   "execution_count": 11,
   "id": "f7d55ec6",
   "metadata": {},
   "outputs": [
    {
     "name": "stdout",
     "output_type": "stream",
     "text": [
      "Statistical Information about the numerical colums in such as duration,rating, episode count, season_count\n"
     ]
    },
    {
     "data": {
      "text/html": [
       "<div>\n",
       "<style scoped>\n",
       "    .dataframe tbody tr th:only-of-type {\n",
       "        vertical-align: middle;\n",
       "    }\n",
       "\n",
       "    .dataframe tbody tr th {\n",
       "        vertical-align: top;\n",
       "    }\n",
       "\n",
       "    .dataframe thead th {\n",
       "        text-align: right;\n",
       "    }\n",
       "</style>\n",
       "<table border=\"1\" class=\"dataframe\">\n",
       "  <thead>\n",
       "    <tr style=\"text-align: right;\">\n",
       "      <th></th>\n",
       "      <th>duration</th>\n",
       "      <th>rating</th>\n",
       "      <th>episode_count</th>\n",
       "      <th>season_count</th>\n",
       "    </tr>\n",
       "  </thead>\n",
       "  <tbody>\n",
       "    <tr>\n",
       "      <th>count</th>\n",
       "      <td>4.864500e+04</td>\n",
       "      <td>48645.000000</td>\n",
       "      <td>48645.000000</td>\n",
       "      <td>48645.000000</td>\n",
       "    </tr>\n",
       "    <tr>\n",
       "      <th>mean</th>\n",
       "      <td>3.526825e+06</td>\n",
       "      <td>5.042163</td>\n",
       "      <td>16.216631</td>\n",
       "      <td>6.613033</td>\n",
       "    </tr>\n",
       "    <tr>\n",
       "      <th>std</th>\n",
       "      <td>9.114208e+05</td>\n",
       "      <td>3.092649</td>\n",
       "      <td>12.752946</td>\n",
       "      <td>6.151200</td>\n",
       "    </tr>\n",
       "    <tr>\n",
       "      <th>min</th>\n",
       "      <td>6.000000e+04</td>\n",
       "      <td>0.000000</td>\n",
       "      <td>0.000000</td>\n",
       "      <td>0.000000</td>\n",
       "    </tr>\n",
       "    <tr>\n",
       "      <th>25%</th>\n",
       "      <td>3.000000e+06</td>\n",
       "      <td>2.000000</td>\n",
       "      <td>6.000000</td>\n",
       "      <td>2.000000</td>\n",
       "    </tr>\n",
       "    <tr>\n",
       "      <th>50%</th>\n",
       "      <td>3.300000e+06</td>\n",
       "      <td>5.000000</td>\n",
       "      <td>13.000000</td>\n",
       "      <td>5.000000</td>\n",
       "    </tr>\n",
       "    <tr>\n",
       "      <th>75%</th>\n",
       "      <td>3.780000e+06</td>\n",
       "      <td>8.000000</td>\n",
       "      <td>24.000000</td>\n",
       "      <td>9.000000</td>\n",
       "    </tr>\n",
       "    <tr>\n",
       "      <th>max</th>\n",
       "      <td>1.110000e+07</td>\n",
       "      <td>10.000000</td>\n",
       "      <td>60.000000</td>\n",
       "      <td>44.000000</td>\n",
       "    </tr>\n",
       "  </tbody>\n",
       "</table>\n",
       "</div>"
      ],
      "text/plain": [
       "           duration        rating  episode_count  season_count\n",
       "count  4.864500e+04  48645.000000   48645.000000  48645.000000\n",
       "mean   3.526825e+06      5.042163      16.216631      6.613033\n",
       "std    9.114208e+05      3.092649      12.752946      6.151200\n",
       "min    6.000000e+04      0.000000       0.000000      0.000000\n",
       "25%    3.000000e+06      2.000000       6.000000      2.000000\n",
       "50%    3.300000e+06      5.000000      13.000000      5.000000\n",
       "75%    3.780000e+06      8.000000      24.000000      9.000000\n",
       "max    1.110000e+07     10.000000      60.000000     44.000000"
      ]
     },
     "execution_count": 11,
     "metadata": {},
     "output_type": "execute_result"
    }
   ],
   "source": [
    "print(\"Statistical Information about the numerical colums in such as duration,rating, episode count, season_count\")\n",
    "content.drop('content_id',axis=1).describe(include=[np.number])"
   ]
  },
  {
   "cell_type": "code",
   "execution_count": 12,
   "id": "ddb94944",
   "metadata": {},
   "outputs": [
    {
     "data": {
      "text/plain": [
       "series     45261\n",
       "sports      3175\n",
       "movies       159\n",
       "teasers       50\n",
       "Name: content_type, dtype: int64"
      ]
     },
     "execution_count": 12,
     "metadata": {},
     "output_type": "execute_result"
    }
   ],
   "source": [
    "content['content_type'].value_counts()"
   ]
  },
  {
   "cell_type": "markdown",
   "id": "d52ac849",
   "metadata": {},
   "source": [
    "### What are the top user rated contents of the ott platform ?"
   ]
  },
  {
   "cell_type": "code",
   "execution_count": 13,
   "id": "74bf566a",
   "metadata": {},
   "outputs": [
    {
     "data": {
      "image/png": "[encoded data removed]",
      "text/plain": [
       "<Figure size 360x144 with 1 Axes>"
      ]
     },
     "metadata": {
      "needs_background": "light"
     },
     "output_type": "display_data"
    }
   ],
   "source": [
    "plt.figure(figsize=(5,2))\n",
    "sns.countplot(x= 'rating',hue='content_type',data=content)\n",
    "plt.title(\"Types of content and ratings\")\n",
    "plt.ylabel('count of ratings')\n",
    "plt.xlabel('ratings')\n",
    "plt.show()\n",
    "plt.show()"
   ]
  },
  {
   "cell_type": "markdown",
   "id": "864749f2",
   "metadata": {},
   "source": [
    "### Analysis Based on the content type in the ott : -\n",
    "1. Movies\n",
    "2. Series\n",
    "3. Sports\n",
    "4. Teasers"
   ]
  },
  {
   "cell_type": "markdown",
   "id": "2e0d2887",
   "metadata": {},
   "source": [
    "###### a. Movies"
   ]
  },
  {
   "cell_type": "code",
   "execution_count": 14,
   "id": "ae75e9b4",
   "metadata": {
    "scrolled": true
   },
   "outputs": [
    {
     "name": "stdout",
     "output_type": "stream",
     "text": [
      "Total Number of movies  159\n"
     ]
    },
    {
     "data": {
      "text/html": [
       "<div>\n",
       "<style scoped>\n",
       "    .dataframe tbody tr th:only-of-type {\n",
       "        vertical-align: middle;\n",
       "    }\n",
       "\n",
       "    .dataframe tbody tr th {\n",
       "        vertical-align: top;\n",
       "    }\n",
       "\n",
       "    .dataframe thead th {\n",
       "        text-align: right;\n",
       "    }\n",
       "</style>\n",
       "<table border=\"1\" class=\"dataframe\">\n",
       "  <thead>\n",
       "    <tr style=\"text-align: right;\">\n",
       "      <th></th>\n",
       "      <th>duration</th>\n",
       "      <th>rating</th>\n",
       "      <th>episode_count</th>\n",
       "      <th>season_count</th>\n",
       "    </tr>\n",
       "  </thead>\n",
       "  <tbody>\n",
       "    <tr>\n",
       "      <th>count</th>\n",
       "      <td>1.590000e+02</td>\n",
       "      <td>159.000000</td>\n",
       "      <td>159.0</td>\n",
       "      <td>159.0</td>\n",
       "    </tr>\n",
       "    <tr>\n",
       "      <th>mean</th>\n",
       "      <td>6.333962e+06</td>\n",
       "      <td>5.798742</td>\n",
       "      <td>0.0</td>\n",
       "      <td>0.0</td>\n",
       "    </tr>\n",
       "    <tr>\n",
       "      <th>std</th>\n",
       "      <td>2.315967e+06</td>\n",
       "      <td>2.794162</td>\n",
       "      <td>0.0</td>\n",
       "      <td>0.0</td>\n",
       "    </tr>\n",
       "    <tr>\n",
       "      <th>min</th>\n",
       "      <td>2.700000e+06</td>\n",
       "      <td>1.000000</td>\n",
       "      <td>0.0</td>\n",
       "      <td>0.0</td>\n",
       "    </tr>\n",
       "    <tr>\n",
       "      <th>25%</th>\n",
       "      <td>4.530000e+06</td>\n",
       "      <td>4.000000</td>\n",
       "      <td>0.0</td>\n",
       "      <td>0.0</td>\n",
       "    </tr>\n",
       "    <tr>\n",
       "      <th>50%</th>\n",
       "      <td>6.120000e+06</td>\n",
       "      <td>6.000000</td>\n",
       "      <td>0.0</td>\n",
       "      <td>0.0</td>\n",
       "    </tr>\n",
       "    <tr>\n",
       "      <th>75%</th>\n",
       "      <td>8.190000e+06</td>\n",
       "      <td>8.000000</td>\n",
       "      <td>0.0</td>\n",
       "      <td>0.0</td>\n",
       "    </tr>\n",
       "    <tr>\n",
       "      <th>max</th>\n",
       "      <td>1.080000e+07</td>\n",
       "      <td>10.000000</td>\n",
       "      <td>0.0</td>\n",
       "      <td>0.0</td>\n",
       "    </tr>\n",
       "  </tbody>\n",
       "</table>\n",
       "</div>"
      ],
      "text/plain": [
       "           duration      rating  episode_count  season_count\n",
       "count  1.590000e+02  159.000000          159.0         159.0\n",
       "mean   6.333962e+06    5.798742            0.0           0.0\n",
       "std    2.315967e+06    2.794162            0.0           0.0\n",
       "min    2.700000e+06    1.000000            0.0           0.0\n",
       "25%    4.530000e+06    4.000000            0.0           0.0\n",
       "50%    6.120000e+06    6.000000            0.0           0.0\n",
       "75%    8.190000e+06    8.000000            0.0           0.0\n",
       "max    1.080000e+07   10.000000            0.0           0.0"
      ]
     },
     "execution_count": 14,
     "metadata": {},
     "output_type": "execute_result"
    }
   ],
   "source": [
    "top_movies_ratings = content[content['content_type'] == 'movies'].sort_values(by= 'rating', ascending=False)\n",
    "top_movies_ratings = top_movies_ratings.reset_index(drop='index')\n",
    "print(\"Total Number of movies \" ,top_movies_ratings.shape[0])\n",
    "top_movies_ratings.describe()"
   ]
  },
  {
   "cell_type": "code",
   "execution_count": 15,
   "id": "2274594d",
   "metadata": {},
   "outputs": [
    {
     "data": {
      "text/html": [
       "<div>\n",
       "<style scoped>\n",
       "    .dataframe tbody tr th:only-of-type {\n",
       "        vertical-align: middle;\n",
       "    }\n",
       "\n",
       "    .dataframe tbody tr th {\n",
       "        vertical-align: top;\n",
       "    }\n",
       "\n",
       "    .dataframe thead th {\n",
       "        text-align: right;\n",
       "    }\n",
       "</style>\n",
       "<table border=\"1\" class=\"dataframe\">\n",
       "  <thead>\n",
       "    <tr style=\"text-align: right;\">\n",
       "      <th></th>\n",
       "      <th>language</th>\n",
       "      <th>genre</th>\n",
       "      <th>release_date</th>\n",
       "    </tr>\n",
       "  </thead>\n",
       "  <tbody>\n",
       "    <tr>\n",
       "      <th>count</th>\n",
       "      <td>159</td>\n",
       "      <td>159</td>\n",
       "      <td>159</td>\n",
       "    </tr>\n",
       "    <tr>\n",
       "      <th>unique</th>\n",
       "      <td>8</td>\n",
       "      <td>16</td>\n",
       "      <td>158</td>\n",
       "    </tr>\n",
       "    <tr>\n",
       "      <th>top</th>\n",
       "      <td>hindi</td>\n",
       "      <td>comedy</td>\n",
       "      <td>2017-11-27</td>\n",
       "    </tr>\n",
       "    <tr>\n",
       "      <th>freq</th>\n",
       "      <td>85</td>\n",
       "      <td>27</td>\n",
       "      <td>2</td>\n",
       "    </tr>\n",
       "  </tbody>\n",
       "</table>\n",
       "</div>"
      ],
      "text/plain": [
       "       language   genre release_date\n",
       "count       159     159          159\n",
       "unique        8      16          158\n",
       "top       hindi  comedy   2017-11-27\n",
       "freq         85      27            2"
      ]
     },
     "execution_count": 15,
     "metadata": {},
     "output_type": "execute_result"
    }
   ],
   "source": [
    "top_movies_ratings.drop(['content_type','content_id'],axis=1).describe(include='object')"
   ]
  },
  {
   "cell_type": "markdown",
   "id": "678956c8",
   "metadata": {},
   "source": [
    "> ##### Movies\n",
    "There are **Sixteen genres** of movies content in **Eight different languages** out of which half of them in **hindi** language\"\n",
    "----"
   ]
  },
  {
   "cell_type": "markdown",
   "id": "7d0f0070",
   "metadata": {},
   "source": [
    "###### b. Series"
   ]
  },
  {
   "cell_type": "code",
   "execution_count": 16,
   "id": "fa46fa76",
   "metadata": {},
   "outputs": [
    {
     "name": "stdout",
     "output_type": "stream",
     "text": [
      "Total Number of series 45261\n"
     ]
    },
    {
     "data": {
      "text/html": [
       "<div>\n",
       "<style scoped>\n",
       "    .dataframe tbody tr th:only-of-type {\n",
       "        vertical-align: middle;\n",
       "    }\n",
       "\n",
       "    .dataframe tbody tr th {\n",
       "        vertical-align: top;\n",
       "    }\n",
       "\n",
       "    .dataframe thead th {\n",
       "        text-align: right;\n",
       "    }\n",
       "</style>\n",
       "<table border=\"1\" class=\"dataframe\">\n",
       "  <thead>\n",
       "    <tr style=\"text-align: right;\">\n",
       "      <th></th>\n",
       "      <th>duration</th>\n",
       "      <th>rating</th>\n",
       "      <th>episode_count</th>\n",
       "      <th>season_count</th>\n",
       "    </tr>\n",
       "  </thead>\n",
       "  <tbody>\n",
       "    <tr>\n",
       "      <th>count</th>\n",
       "      <td>4.526100e+04</td>\n",
       "      <td>45261.000000</td>\n",
       "      <td>45261.000000</td>\n",
       "      <td>45261.000000</td>\n",
       "    </tr>\n",
       "    <tr>\n",
       "      <th>mean</th>\n",
       "      <td>3.430372e+06</td>\n",
       "      <td>5.398776</td>\n",
       "      <td>17.026049</td>\n",
       "      <td>7.037317</td>\n",
       "    </tr>\n",
       "    <tr>\n",
       "      <th>std</th>\n",
       "      <td>6.783476e+05</td>\n",
       "      <td>2.882986</td>\n",
       "      <td>12.806494</td>\n",
       "      <td>6.170425</td>\n",
       "    </tr>\n",
       "    <tr>\n",
       "      <th>min</th>\n",
       "      <td>2.400000e+06</td>\n",
       "      <td>1.000000</td>\n",
       "      <td>1.000000</td>\n",
       "      <td>1.000000</td>\n",
       "    </tr>\n",
       "    <tr>\n",
       "      <th>25%</th>\n",
       "      <td>2.940000e+06</td>\n",
       "      <td>3.000000</td>\n",
       "      <td>7.000000</td>\n",
       "      <td>3.000000</td>\n",
       "    </tr>\n",
       "    <tr>\n",
       "      <th>50%</th>\n",
       "      <td>3.300000e+06</td>\n",
       "      <td>5.000000</td>\n",
       "      <td>14.000000</td>\n",
       "      <td>5.000000</td>\n",
       "    </tr>\n",
       "    <tr>\n",
       "      <th>75%</th>\n",
       "      <td>3.660000e+06</td>\n",
       "      <td>8.000000</td>\n",
       "      <td>25.000000</td>\n",
       "      <td>9.000000</td>\n",
       "    </tr>\n",
       "    <tr>\n",
       "      <th>max</th>\n",
       "      <td>5.700000e+06</td>\n",
       "      <td>10.000000</td>\n",
       "      <td>60.000000</td>\n",
       "      <td>44.000000</td>\n",
       "    </tr>\n",
       "  </tbody>\n",
       "</table>\n",
       "</div>"
      ],
      "text/plain": [
       "           duration        rating  episode_count  season_count\n",
       "count  4.526100e+04  45261.000000   45261.000000  45261.000000\n",
       "mean   3.430372e+06      5.398776      17.026049      7.037317\n",
       "std    6.783476e+05      2.882986      12.806494      6.170425\n",
       "min    2.400000e+06      1.000000       1.000000      1.000000\n",
       "25%    2.940000e+06      3.000000       7.000000      3.000000\n",
       "50%    3.300000e+06      5.000000      14.000000      5.000000\n",
       "75%    3.660000e+06      8.000000      25.000000      9.000000\n",
       "max    5.700000e+06     10.000000      60.000000     44.000000"
      ]
     },
     "execution_count": 16,
     "metadata": {},
     "output_type": "execute_result"
    }
   ],
   "source": [
    "top_series_ratings = content[content['content_type'] == 'series'].sort_values(by= 'rating', ascending=False)\n",
    "top_series_ratings = top_series_ratings.reset_index(drop='index')\n",
    "print(\"Total Number of series\" ,top_series_ratings.shape[0])\n",
    "top_series_ratings.describe()"
   ]
  },
  {
   "cell_type": "code",
   "execution_count": 17,
   "id": "b01f3390",
   "metadata": {},
   "outputs": [
    {
     "data": {
      "text/html": [
       "<div>\n",
       "<style scoped>\n",
       "    .dataframe tbody tr th:only-of-type {\n",
       "        vertical-align: middle;\n",
       "    }\n",
       "\n",
       "    .dataframe tbody tr th {\n",
       "        vertical-align: top;\n",
       "    }\n",
       "\n",
       "    .dataframe thead th {\n",
       "        text-align: right;\n",
       "    }\n",
       "</style>\n",
       "<table border=\"1\" class=\"dataframe\">\n",
       "  <thead>\n",
       "    <tr style=\"text-align: right;\">\n",
       "      <th></th>\n",
       "      <th>language</th>\n",
       "      <th>genre</th>\n",
       "      <th>release_date</th>\n",
       "    </tr>\n",
       "  </thead>\n",
       "  <tbody>\n",
       "    <tr>\n",
       "      <th>count</th>\n",
       "      <td>45261</td>\n",
       "      <td>45261</td>\n",
       "      <td>45261</td>\n",
       "    </tr>\n",
       "    <tr>\n",
       "      <th>unique</th>\n",
       "      <td>11</td>\n",
       "      <td>6</td>\n",
       "      <td>10291</td>\n",
       "    </tr>\n",
       "    <tr>\n",
       "      <th>top</th>\n",
       "      <td>hindi</td>\n",
       "      <td>drama</td>\n",
       "      <td>2012-12-27</td>\n",
       "    </tr>\n",
       "    <tr>\n",
       "      <th>freq</th>\n",
       "      <td>22184</td>\n",
       "      <td>22980</td>\n",
       "      <td>17</td>\n",
       "    </tr>\n",
       "  </tbody>\n",
       "</table>\n",
       "</div>"
      ],
      "text/plain": [
       "       language  genre release_date\n",
       "count     45261  45261        45261\n",
       "unique       11      6        10291\n",
       "top       hindi  drama   2012-12-27\n",
       "freq      22184  22980           17"
      ]
     },
     "execution_count": 17,
     "metadata": {},
     "output_type": "execute_result"
    }
   ],
   "source": [
    "top_series_ratings.drop(['content_type','content_id'],axis=1).describe(include='object')"
   ]
  },
  {
   "cell_type": "markdown",
   "id": "184041bb",
   "metadata": {},
   "source": [
    "> ##### Series \n",
    "There are series in **Eleven different languages** in **Six genres** are available\n",
    "----"
   ]
  },
  {
   "cell_type": "markdown",
   "id": "466c9438",
   "metadata": {},
   "source": [
    "###### c. Sports"
   ]
  },
  {
   "cell_type": "code",
   "execution_count": 18,
   "id": "836ebdd9",
   "metadata": {},
   "outputs": [
    {
     "name": "stdout",
     "output_type": "stream",
     "text": [
      "Total Number of sports related content 3175\n"
     ]
    },
    {
     "data": {
      "text/html": [
       "<div>\n",
       "<style scoped>\n",
       "    .dataframe tbody tr th:only-of-type {\n",
       "        vertical-align: middle;\n",
       "    }\n",
       "\n",
       "    .dataframe tbody tr th {\n",
       "        vertical-align: top;\n",
       "    }\n",
       "\n",
       "    .dataframe thead th {\n",
       "        text-align: right;\n",
       "    }\n",
       "</style>\n",
       "<table border=\"1\" class=\"dataframe\">\n",
       "  <thead>\n",
       "    <tr style=\"text-align: right;\">\n",
       "      <th></th>\n",
       "      <th>duration</th>\n",
       "      <th>rating</th>\n",
       "      <th>episode_count</th>\n",
       "      <th>season_count</th>\n",
       "    </tr>\n",
       "  </thead>\n",
       "  <tbody>\n",
       "    <tr>\n",
       "      <th>count</th>\n",
       "      <td>3.175000e+03</td>\n",
       "      <td>3175.0</td>\n",
       "      <td>3175.000000</td>\n",
       "      <td>3175.0</td>\n",
       "    </tr>\n",
       "    <tr>\n",
       "      <th>mean</th>\n",
       "      <td>4.813209e+06</td>\n",
       "      <td>0.0</td>\n",
       "      <td>5.745512</td>\n",
       "      <td>1.0</td>\n",
       "    </tr>\n",
       "    <tr>\n",
       "      <th>std</th>\n",
       "      <td>1.883513e+06</td>\n",
       "      <td>0.0</td>\n",
       "      <td>4.188545</td>\n",
       "      <td>0.0</td>\n",
       "    </tr>\n",
       "    <tr>\n",
       "      <th>min</th>\n",
       "      <td>2.400000e+06</td>\n",
       "      <td>0.0</td>\n",
       "      <td>1.000000</td>\n",
       "      <td>1.0</td>\n",
       "    </tr>\n",
       "    <tr>\n",
       "      <th>25%</th>\n",
       "      <td>3.480000e+06</td>\n",
       "      <td>0.0</td>\n",
       "      <td>2.000000</td>\n",
       "      <td>1.0</td>\n",
       "    </tr>\n",
       "    <tr>\n",
       "      <th>50%</th>\n",
       "      <td>4.380000e+06</td>\n",
       "      <td>0.0</td>\n",
       "      <td>5.000000</td>\n",
       "      <td>1.0</td>\n",
       "    </tr>\n",
       "    <tr>\n",
       "      <th>75%</th>\n",
       "      <td>5.280000e+06</td>\n",
       "      <td>0.0</td>\n",
       "      <td>8.000000</td>\n",
       "      <td>1.0</td>\n",
       "    </tr>\n",
       "    <tr>\n",
       "      <th>max</th>\n",
       "      <td>1.110000e+07</td>\n",
       "      <td>0.0</td>\n",
       "      <td>20.000000</td>\n",
       "      <td>1.0</td>\n",
       "    </tr>\n",
       "  </tbody>\n",
       "</table>\n",
       "</div>"
      ],
      "text/plain": [
       "           duration  rating  episode_count  season_count\n",
       "count  3.175000e+03  3175.0    3175.000000        3175.0\n",
       "mean   4.813209e+06     0.0       5.745512           1.0\n",
       "std    1.883513e+06     0.0       4.188545           0.0\n",
       "min    2.400000e+06     0.0       1.000000           1.0\n",
       "25%    3.480000e+06     0.0       2.000000           1.0\n",
       "50%    4.380000e+06     0.0       5.000000           1.0\n",
       "75%    5.280000e+06     0.0       8.000000           1.0\n",
       "max    1.110000e+07     0.0      20.000000           1.0"
      ]
     },
     "execution_count": 18,
     "metadata": {},
     "output_type": "execute_result"
    }
   ],
   "source": [
    "top_sports_ratings = content[content['content_type'] == 'sports'].sort_values(by= 'rating', ascending=False)\n",
    "top_sports_ratings = top_sports_ratings.reset_index(drop='index')\n",
    "print(\"Total Number of sports related content\" ,top_sports_ratings.shape[0])\n",
    "top_sports_ratings.describe(include=[np.number])"
   ]
  },
  {
   "cell_type": "code",
   "execution_count": 19,
   "id": "0bec3474",
   "metadata": {},
   "outputs": [
    {
     "data": {
      "text/html": [
       "<div>\n",
       "<style scoped>\n",
       "    .dataframe tbody tr th:only-of-type {\n",
       "        vertical-align: middle;\n",
       "    }\n",
       "\n",
       "    .dataframe tbody tr th {\n",
       "        vertical-align: top;\n",
       "    }\n",
       "\n",
       "    .dataframe thead th {\n",
       "        text-align: right;\n",
       "    }\n",
       "</style>\n",
       "<table border=\"1\" class=\"dataframe\">\n",
       "  <thead>\n",
       "    <tr style=\"text-align: right;\">\n",
       "      <th></th>\n",
       "      <th>language</th>\n",
       "      <th>genre</th>\n",
       "      <th>release_date</th>\n",
       "    </tr>\n",
       "  </thead>\n",
       "  <tbody>\n",
       "    <tr>\n",
       "      <th>count</th>\n",
       "      <td>3175</td>\n",
       "      <td>3175</td>\n",
       "      <td>3175</td>\n",
       "    </tr>\n",
       "    <tr>\n",
       "      <th>unique</th>\n",
       "      <td>2</td>\n",
       "      <td>6</td>\n",
       "      <td>2759</td>\n",
       "    </tr>\n",
       "    <tr>\n",
       "      <th>top</th>\n",
       "      <td>hindi</td>\n",
       "      <td>cricket</td>\n",
       "      <td>2019-02-04</td>\n",
       "    </tr>\n",
       "    <tr>\n",
       "      <th>freq</th>\n",
       "      <td>1617</td>\n",
       "      <td>1875</td>\n",
       "      <td>5</td>\n",
       "    </tr>\n",
       "  </tbody>\n",
       "</table>\n",
       "</div>"
      ],
      "text/plain": [
       "       language    genre release_date\n",
       "count      3175     3175         3175\n",
       "unique        2        6         2759\n",
       "top       hindi  cricket   2019-02-04\n",
       "freq       1617     1875            5"
      ]
     },
     "execution_count": 19,
     "metadata": {},
     "output_type": "execute_result"
    }
   ],
   "source": [
    "top_sports_ratings.drop(['content_type','content_id'],axis=1).describe(include='object')"
   ]
  },
  {
   "cell_type": "markdown",
   "id": "b305ea11",
   "metadata": {},
   "source": [
    "> ##### sports \n",
    "There are **2 languages(english and hindi)** and **Six genre** of sports available namely **cricket, football, hockey, basketball, badminton, tennis.**\n",
    "----\n"
   ]
  },
  {
   "cell_type": "markdown",
   "id": "5ae14e6e",
   "metadata": {},
   "source": [
    "###### d. Teasers"
   ]
  },
  {
   "cell_type": "code",
   "execution_count": 20,
   "id": "e0177273",
   "metadata": {
    "scrolled": false
   },
   "outputs": [
    {
     "data": {
      "text/html": [
       "<div>\n",
       "<style scoped>\n",
       "    .dataframe tbody tr th:only-of-type {\n",
       "        vertical-align: middle;\n",
       "    }\n",
       "\n",
       "    .dataframe tbody tr th {\n",
       "        vertical-align: top;\n",
       "    }\n",
       "\n",
       "    .dataframe thead th {\n",
       "        text-align: right;\n",
       "    }\n",
       "</style>\n",
       "<table border=\"1\" class=\"dataframe\">\n",
       "  <thead>\n",
       "    <tr style=\"text-align: right;\">\n",
       "      <th></th>\n",
       "      <th>duration</th>\n",
       "      <th>rating</th>\n",
       "      <th>episode_count</th>\n",
       "      <th>season_count</th>\n",
       "    </tr>\n",
       "  </thead>\n",
       "  <tbody>\n",
       "    <tr>\n",
       "      <th>count</th>\n",
       "      <td>50.000000</td>\n",
       "      <td>50.0</td>\n",
       "      <td>50.0</td>\n",
       "      <td>50.0</td>\n",
       "    </tr>\n",
       "    <tr>\n",
       "      <th>mean</th>\n",
       "      <td>225600.000000</td>\n",
       "      <td>0.0</td>\n",
       "      <td>0.0</td>\n",
       "      <td>0.0</td>\n",
       "    </tr>\n",
       "    <tr>\n",
       "      <th>std</th>\n",
       "      <td>134743.293347</td>\n",
       "      <td>0.0</td>\n",
       "      <td>0.0</td>\n",
       "      <td>0.0</td>\n",
       "    </tr>\n",
       "    <tr>\n",
       "      <th>min</th>\n",
       "      <td>60000.000000</td>\n",
       "      <td>0.0</td>\n",
       "      <td>0.0</td>\n",
       "      <td>0.0</td>\n",
       "    </tr>\n",
       "    <tr>\n",
       "      <th>25%</th>\n",
       "      <td>120000.000000</td>\n",
       "      <td>0.0</td>\n",
       "      <td>0.0</td>\n",
       "      <td>0.0</td>\n",
       "    </tr>\n",
       "    <tr>\n",
       "      <th>50%</th>\n",
       "      <td>180000.000000</td>\n",
       "      <td>0.0</td>\n",
       "      <td>0.0</td>\n",
       "      <td>0.0</td>\n",
       "    </tr>\n",
       "    <tr>\n",
       "      <th>75%</th>\n",
       "      <td>285000.000000</td>\n",
       "      <td>0.0</td>\n",
       "      <td>0.0</td>\n",
       "      <td>0.0</td>\n",
       "    </tr>\n",
       "    <tr>\n",
       "      <th>max</th>\n",
       "      <td>600000.000000</td>\n",
       "      <td>0.0</td>\n",
       "      <td>0.0</td>\n",
       "      <td>0.0</td>\n",
       "    </tr>\n",
       "  </tbody>\n",
       "</table>\n",
       "</div>"
      ],
      "text/plain": [
       "            duration  rating  episode_count  season_count\n",
       "count      50.000000    50.0           50.0          50.0\n",
       "mean   225600.000000     0.0            0.0           0.0\n",
       "std    134743.293347     0.0            0.0           0.0\n",
       "min     60000.000000     0.0            0.0           0.0\n",
       "25%    120000.000000     0.0            0.0           0.0\n",
       "50%    180000.000000     0.0            0.0           0.0\n",
       "75%    285000.000000     0.0            0.0           0.0\n",
       "max    600000.000000     0.0            0.0           0.0"
      ]
     },
     "execution_count": 20,
     "metadata": {},
     "output_type": "execute_result"
    }
   ],
   "source": [
    "top_teasers_ratings = content[content['content_type'] == 'teasers'].sort_values(by= 'rating', ascending=False)\n",
    "top_teasers_ratings = top_teasers_ratings.reset_index(drop='index')\n",
    "top_teasers_ratings.describe(include=[np.number])"
   ]
  },
  {
   "cell_type": "code",
   "execution_count": 21,
   "id": "c00404da",
   "metadata": {},
   "outputs": [
    {
     "data": {
      "text/html": [
       "<div>\n",
       "<style scoped>\n",
       "    .dataframe tbody tr th:only-of-type {\n",
       "        vertical-align: middle;\n",
       "    }\n",
       "\n",
       "    .dataframe tbody tr th {\n",
       "        vertical-align: top;\n",
       "    }\n",
       "\n",
       "    .dataframe thead th {\n",
       "        text-align: right;\n",
       "    }\n",
       "</style>\n",
       "<table border=\"1\" class=\"dataframe\">\n",
       "  <thead>\n",
       "    <tr style=\"text-align: right;\">\n",
       "      <th></th>\n",
       "      <th>language</th>\n",
       "      <th>genre</th>\n",
       "      <th>release_date</th>\n",
       "    </tr>\n",
       "  </thead>\n",
       "  <tbody>\n",
       "    <tr>\n",
       "      <th>count</th>\n",
       "      <td>50</td>\n",
       "      <td>50</td>\n",
       "      <td>50</td>\n",
       "    </tr>\n",
       "    <tr>\n",
       "      <th>unique</th>\n",
       "      <td>8</td>\n",
       "      <td>16</td>\n",
       "      <td>50</td>\n",
       "    </tr>\n",
       "    <tr>\n",
       "      <th>top</th>\n",
       "      <td>hindi</td>\n",
       "      <td>comedy</td>\n",
       "      <td>1997-05-19</td>\n",
       "    </tr>\n",
       "    <tr>\n",
       "      <th>freq</th>\n",
       "      <td>26</td>\n",
       "      <td>7</td>\n",
       "      <td>1</td>\n",
       "    </tr>\n",
       "  </tbody>\n",
       "</table>\n",
       "</div>"
      ],
      "text/plain": [
       "       language   genre release_date\n",
       "count        50      50           50\n",
       "unique        8      16           50\n",
       "top       hindi  comedy   1997-05-19\n",
       "freq         26       7            1"
      ]
     },
     "execution_count": 21,
     "metadata": {},
     "output_type": "execute_result"
    }
   ],
   "source": [
    "top_teasers_ratings.drop(['content_type','content_id'],axis=1).describe(include = 'object')"
   ]
  },
  {
   "cell_type": "markdown",
   "id": "d00454b8",
   "metadata": {},
   "source": [
    "> ###### Teasers\n",
    "There are **16 unqiue genre** of teasers in **8 different languages**.\n",
    "----"
   ]
  },
  {
   "cell_type": "markdown",
   "id": "76994a7c",
   "metadata": {},
   "source": [
    "## 3. Relationship.csv"
   ]
  },
  {
   "cell_type": "code",
   "execution_count": 22,
   "id": "e3e1c1bf",
   "metadata": {},
   "outputs": [
    {
     "name": "stdout",
     "output_type": "stream",
     "text": [
      "The total number  of records in relationship table is 1654450\n"
     ]
    }
   ],
   "source": [
    "relationship = pd.read_csv(\"../Dataset/relationship.csv\")\n",
    "relationship.head(3)\n",
    "print(\"The total number  of records in relationship table is\",relationship.shape[0])"
   ]
  },
  {
   "cell_type": "code",
   "execution_count": 23,
   "id": "1e88d912",
   "metadata": {},
   "outputs": [
    {
     "data": {
      "text/html": [
       "<div>\n",
       "<style scoped>\n",
       "    .dataframe tbody tr th:only-of-type {\n",
       "        vertical-align: middle;\n",
       "    }\n",
       "\n",
       "    .dataframe tbody tr th {\n",
       "        vertical-align: top;\n",
       "    }\n",
       "\n",
       "    .dataframe thead th {\n",
       "        text-align: right;\n",
       "    }\n",
       "</style>\n",
       "<table border=\"1\" class=\"dataframe\">\n",
       "  <thead>\n",
       "    <tr style=\"text-align: right;\">\n",
       "      <th></th>\n",
       "      <th>user_id</th>\n",
       "      <th>content_id</th>\n",
       "      <th>date</th>\n",
       "      <th>start_time</th>\n",
       "      <th>end_time</th>\n",
       "    </tr>\n",
       "  </thead>\n",
       "  <tbody>\n",
       "    <tr>\n",
       "      <th>count</th>\n",
       "      <td>1654450</td>\n",
       "      <td>1654450</td>\n",
       "      <td>1654450</td>\n",
       "      <td>1654450</td>\n",
       "      <td>1654450</td>\n",
       "    </tr>\n",
       "    <tr>\n",
       "      <th>unique</th>\n",
       "      <td>10923</td>\n",
       "      <td>44223</td>\n",
       "      <td>1552</td>\n",
       "      <td>86400</td>\n",
       "      <td>86400</td>\n",
       "    </tr>\n",
       "    <tr>\n",
       "      <th>top</th>\n",
       "      <td>user_19736@domain.com</td>\n",
       "      <td>cont_3497_10_10</td>\n",
       "      <td>2020-12-15</td>\n",
       "      <td>19:44:50</td>\n",
       "      <td>01:44:53</td>\n",
       "    </tr>\n",
       "    <tr>\n",
       "      <th>freq</th>\n",
       "      <td>923</td>\n",
       "      <td>184</td>\n",
       "      <td>1770</td>\n",
       "      <td>40</td>\n",
       "      <td>41</td>\n",
       "    </tr>\n",
       "  </tbody>\n",
       "</table>\n",
       "</div>"
      ],
      "text/plain": [
       "                      user_id       content_id        date start_time  \\\n",
       "count                 1654450          1654450     1654450    1654450   \n",
       "unique                  10923            44223        1552      86400   \n",
       "top     user_19736@domain.com  cont_3497_10_10  2020-12-15   19:44:50   \n",
       "freq                      923              184        1770         40   \n",
       "\n",
       "        end_time  \n",
       "count    1654450  \n",
       "unique     86400  \n",
       "top     01:44:53  \n",
       "freq          41  "
      ]
     },
     "execution_count": 23,
     "metadata": {},
     "output_type": "execute_result"
    }
   ],
   "source": [
    "relationship.describe(include='object')"
   ]
  },
  {
   "cell_type": "markdown",
   "id": "dfae8c3f",
   "metadata": {},
   "source": [
    ">###### Relationship\n",
    " There are total **10,923 users** and **44,223 contents** available"
   ]
  },
  {
   "cell_type": "code",
   "execution_count": 24,
   "id": "09b8fd61",
   "metadata": {},
   "outputs": [
    {
     "data": {
      "text/html": [
       "<div>\n",
       "<style scoped>\n",
       "    .dataframe tbody tr th:only-of-type {\n",
       "        vertical-align: middle;\n",
       "    }\n",
       "\n",
       "    .dataframe tbody tr th {\n",
       "        vertical-align: top;\n",
       "    }\n",
       "\n",
       "    .dataframe thead th {\n",
       "        text-align: right;\n",
       "    }\n",
       "</style>\n",
       "<table border=\"1\" class=\"dataframe\">\n",
       "  <thead>\n",
       "    <tr style=\"text-align: right;\">\n",
       "      <th></th>\n",
       "      <th>duration</th>\n",
       "    </tr>\n",
       "  </thead>\n",
       "  <tbody>\n",
       "    <tr>\n",
       "      <th>count</th>\n",
       "      <td>1.654450e+06</td>\n",
       "    </tr>\n",
       "    <tr>\n",
       "      <th>mean</th>\n",
       "      <td>1.812842e+06</td>\n",
       "    </tr>\n",
       "    <tr>\n",
       "      <th>std</th>\n",
       "      <td>1.165702e+06</td>\n",
       "    </tr>\n",
       "    <tr>\n",
       "      <th>min</th>\n",
       "      <td>6.000000e+04</td>\n",
       "    </tr>\n",
       "    <tr>\n",
       "      <th>25%</th>\n",
       "      <td>9.000000e+05</td>\n",
       "    </tr>\n",
       "    <tr>\n",
       "      <th>50%</th>\n",
       "      <td>1.740000e+06</td>\n",
       "    </tr>\n",
       "    <tr>\n",
       "      <th>75%</th>\n",
       "      <td>2.580000e+06</td>\n",
       "    </tr>\n",
       "    <tr>\n",
       "      <th>max</th>\n",
       "      <td>1.086000e+07</td>\n",
       "    </tr>\n",
       "  </tbody>\n",
       "</table>\n",
       "</div>"
      ],
      "text/plain": [
       "           duration\n",
       "count  1.654450e+06\n",
       "mean   1.812842e+06\n",
       "std    1.165702e+06\n",
       "min    6.000000e+04\n",
       "25%    9.000000e+05\n",
       "50%    1.740000e+06\n",
       "75%    2.580000e+06\n",
       "max    1.086000e+07"
      ]
     },
     "execution_count": 24,
     "metadata": {},
     "output_type": "execute_result"
    }
   ],
   "source": [
    "relationship.describe(include=np.number)"
   ]
  },
  {
   "cell_type": "code",
   "execution_count": 25,
   "id": "4ea73c52",
   "metadata": {},
   "outputs": [
    {
     "name": "stdout",
     "output_type": "stream",
     "text": [
      "Stats about the content\n"
     ]
    },
    {
     "data": {
      "text/html": [
       "<div>\n",
       "<style scoped>\n",
       "    .dataframe tbody tr th:only-of-type {\n",
       "        vertical-align: middle;\n",
       "    }\n",
       "\n",
       "    .dataframe tbody tr th {\n",
       "        vertical-align: top;\n",
       "    }\n",
       "\n",
       "    .dataframe thead th {\n",
       "        text-align: right;\n",
       "    }\n",
       "</style>\n",
       "<table border=\"1\" class=\"dataframe\">\n",
       "  <thead>\n",
       "    <tr style=\"text-align: right;\">\n",
       "      <th></th>\n",
       "      <th>no_contents</th>\n",
       "    </tr>\n",
       "  </thead>\n",
       "  <tbody>\n",
       "    <tr>\n",
       "      <th>count</th>\n",
       "      <td>10923.000000</td>\n",
       "    </tr>\n",
       "    <tr>\n",
       "      <th>mean</th>\n",
       "      <td>151.464799</td>\n",
       "    </tr>\n",
       "    <tr>\n",
       "      <th>std</th>\n",
       "      <td>137.306017</td>\n",
       "    </tr>\n",
       "    <tr>\n",
       "      <th>min</th>\n",
       "      <td>1.000000</td>\n",
       "    </tr>\n",
       "    <tr>\n",
       "      <th>25%</th>\n",
       "      <td>46.000000</td>\n",
       "    </tr>\n",
       "    <tr>\n",
       "      <th>50%</th>\n",
       "      <td>114.000000</td>\n",
       "    </tr>\n",
       "    <tr>\n",
       "      <th>75%</th>\n",
       "      <td>218.000000</td>\n",
       "    </tr>\n",
       "    <tr>\n",
       "      <th>max</th>\n",
       "      <td>923.000000</td>\n",
       "    </tr>\n",
       "  </tbody>\n",
       "</table>\n",
       "</div>"
      ],
      "text/plain": [
       "        no_contents\n",
       "count  10923.000000\n",
       "mean     151.464799\n",
       "std      137.306017\n",
       "min        1.000000\n",
       "25%       46.000000\n",
       "50%      114.000000\n",
       "75%      218.000000\n",
       "max      923.000000"
      ]
     },
     "execution_count": 25,
     "metadata": {},
     "output_type": "execute_result"
    }
   ],
   "source": [
    "print(\"Stats about the content\")\n",
    "content_count = relationship.groupby('user_id').count()['content_id'].reset_index().sort_values(by='content_id',ascending=True)\n",
    "content_count.rename(columns={ \"content_id\": \"no_contents\"},inplace=True)\n",
    "content_count = content_count.reset_index().drop('index',axis=1)\n",
    "content_count.describe()"
   ]
  },
  {
   "cell_type": "markdown",
   "id": "fe18a543",
   "metadata": {},
   "source": [
    "> summary of existing system\n",
    "#### Content vs the users Current Enagagement\n",
    "1. Mean of the average content watched by the user is **151**\n",
    "2. Maximum no of content watched is **923**\n",
    "3. Minimum no of content wattched is **1**\n",
    "4. Almost 50 percentage of users have watched **114 content**"
   ]
  },
  {
   "cell_type": "code",
   "execution_count": 26,
   "id": "d4572203",
   "metadata": {},
   "outputs": [
    {
     "data": {
      "image/png": "[encoded data removed]",
      "text/plain": [
       "<Figure size 1440x360 with 1 Axes>"
      ]
     },
     "metadata": {
      "needs_background": "light"
     },
     "output_type": "display_data"
    }
   ],
   "source": [
    "plt.figure(figsize=(20,5))\n",
    "sns.histplot(content_count['no_contents'])\n",
    "plt.title(\"The Number of time the users watched the content\")\n",
    "plt.xlabel(\"Number of times the user watched the content\")\n",
    "plt.ylabel(\"Number of user watched  the content\")\n",
    "plt.show()"
   ]
  },
  {
   "cell_type": "code",
   "execution_count": 27,
   "id": "b97876f0",
   "metadata": {},
   "outputs": [
    {
     "name": "stdout",
     "output_type": "stream",
     "text": [
      "Total Number of users 10923\n",
      "The Number of users that have watched alteast 10 contents 10111 users\n"
     ]
    }
   ],
   "source": [
    "print(\"Total Number of users\",content_count.shape[0])\n",
    "print(\"The Number of users that have watched alteast 10 contents\",content_count[content_count['no_contents'] >9].shape[0],\"users\")"
   ]
  },
  {
   "cell_type": "markdown",
   "id": "f42bc3c6",
   "metadata": {},
   "source": [
    "## 4. Test.csv"
   ]
  },
  {
   "cell_type": "code",
   "execution_count": 28,
   "id": "94987eff",
   "metadata": {},
   "outputs": [
    {
     "name": "stdout",
     "output_type": "stream",
     "text": [
      "Number of test users 1\n"
     ]
    },
    {
     "data": {
      "text/html": [
       "<div>\n",
       "<style scoped>\n",
       "    .dataframe tbody tr th:only-of-type {\n",
       "        vertical-align: middle;\n",
       "    }\n",
       "\n",
       "    .dataframe tbody tr th {\n",
       "        vertical-align: top;\n",
       "    }\n",
       "\n",
       "    .dataframe thead th {\n",
       "        text-align: right;\n",
       "    }\n",
       "</style>\n",
       "<table border=\"1\" class=\"dataframe\">\n",
       "  <thead>\n",
       "    <tr style=\"text-align: right;\">\n",
       "      <th></th>\n",
       "      <th>user_id</th>\n",
       "    </tr>\n",
       "  </thead>\n",
       "  <tbody>\n",
       "    <tr>\n",
       "      <th>0</th>\n",
       "      <td>user_18085@domain.com</td>\n",
       "    </tr>\n",
       "    <tr>\n",
       "      <th>1</th>\n",
       "      <td>user_16044@domain.com</td>\n",
       "    </tr>\n",
       "  </tbody>\n",
       "</table>\n",
       "</div>"
      ],
      "text/plain": [
       "                 user_id\n",
       "0  user_18085@domain.com\n",
       "1  user_16044@domain.com"
      ]
     },
     "execution_count": 28,
     "metadata": {},
     "output_type": "execute_result"
    }
   ],
   "source": [
    "test = pd.read_csv(\"../Dataset/test.csv\")\n",
    "print(\"Number of test users\",test.shape[1])\n",
    "test.head(2)"
   ]
  },
  {
   "cell_type": "code",
   "execution_count": 29,
   "id": "3cae50c4",
   "metadata": {},
   "outputs": [
    {
     "data": {
      "text/html": [
       "<div>\n",
       "<style scoped>\n",
       "    .dataframe tbody tr th:only-of-type {\n",
       "        vertical-align: middle;\n",
       "    }\n",
       "\n",
       "    .dataframe tbody tr th {\n",
       "        vertical-align: top;\n",
       "    }\n",
       "\n",
       "    .dataframe thead th {\n",
       "        text-align: right;\n",
       "    }\n",
       "</style>\n",
       "<table border=\"1\" class=\"dataframe\">\n",
       "  <thead>\n",
       "    <tr style=\"text-align: right;\">\n",
       "      <th></th>\n",
       "      <th>user_id</th>\n",
       "    </tr>\n",
       "  </thead>\n",
       "  <tbody>\n",
       "    <tr>\n",
       "      <th>count</th>\n",
       "      <td>1440</td>\n",
       "    </tr>\n",
       "    <tr>\n",
       "      <th>unique</th>\n",
       "      <td>1440</td>\n",
       "    </tr>\n",
       "    <tr>\n",
       "      <th>top</th>\n",
       "      <td>user_12815@domain.com</td>\n",
       "    </tr>\n",
       "    <tr>\n",
       "      <th>freq</th>\n",
       "      <td>1</td>\n",
       "    </tr>\n",
       "  </tbody>\n",
       "</table>\n",
       "</div>"
      ],
      "text/plain": [
       "                      user_id\n",
       "count                    1440\n",
       "unique                   1440\n",
       "top     user_12815@domain.com\n",
       "freq                        1"
      ]
     },
     "execution_count": 29,
     "metadata": {},
     "output_type": "execute_result"
    }
   ],
   "source": [
    "test.describe(include='all')"
   ]
  },
  {
   "cell_type": "markdown",
   "id": "fb28b5a5",
   "metadata": {},
   "source": [
    "----\n",
    "----\n",
    "----\n",
    "## Data Information from the above (EDA).we came to the conclusion that\n",
    "The data is in three tables\n",
    "1. user - independent\n",
    "2. content - independent\n",
    "3. relationship - a link to join the both\n",
    "4. test - containes only the **user_id(email)**\n"
   ]
  },
  {
   "cell_type": "code",
   "execution_count": 30,
   "id": "6d2968b2",
   "metadata": {},
   "outputs": [
    {
     "name": "stdout",
     "output_type": "stream",
     "text": [
      "User table columns                           :     Index(['user_id', 'user_age', 'gender', 'location', 'joining_date'], dtype='object')\n",
      "Relationship table columns                :     Index(['user_id', 'content_id', 'duration', 'date', 'start_time', 'end_time'], dtype='object')\n",
      "Content table columns                      :      Index(['content_id', 'content_type', 'language', 'genre', 'duration',\n",
      "       'release_date', 'rating', 'episode_count', 'season_count'],\n",
      "      dtype='object')\n"
     ]
    }
   ],
   "source": [
    "print(\"User table columns                           :    \" ,user.columns)\n",
    "print(\"Relationship table columns                :    \" ,relationship.columns)\n",
    "print(\"Content table columns                      :     \" ,content.columns)"
   ]
  },
  {
   "cell_type": "markdown",
   "id": "124e2fd4",
   "metadata": {},
   "source": [
    "----\n",
    "# Our task in this project is to build the recommendation system\n",
    "That means we have to sumit **the Top 10 songs can be recommendations** to a particular user,So we have to make an analysis of how to recommend series/movies to the user, so that the user feels/listen/enjoys the series/movies\n",
    "\n",
    "## Description about each table and what we can get from the each table ? \n",
    "1. **Users table** : we can get his/her id, age, gender, location, joining_date, Basically all the information about him/her\n",
    "2. **content table** : We can get all the inforamtion regarding the series or the movie along with its duration\n",
    "3. **Relationship table** : we can see the more information about the user interaction  with the content\n",
    "\n",
    "## Dataset Description for building a recom system\n",
    "1. The can be used to build a nice recommendation system for the OTT platform according to our choice of wish\n",
    "     Basically a recommendation needed to be build with a meeaning full purpose such as to increase the user engagement.\n",
    "2. The recommendation can  be build if these conditions are met. There are upto 10 different series/movies of each\n",
    "\n",
    "## Domain Knoweledge about the xyz before going to build\n",
    "1. Before going to recommend series and episodes, here we  can see that there are **no ratial discrimination,  no language discrimination, no age discrimination,nothing** we have to compare, Which means building a recommendation system here is an easy task, all the content that are going to be recommend to a user is from a suffled set from our choice, of questions in order to increase enagagement effectively.\n",
    "2. No of different types of content : \n",
    "\n",
    "## We are going to recommend content are on the following basic\n",
    "1. First we need to create tables  and use a **sampelling method** to recommend songs to the users randomly.\n",
    "2. Totally there are **44,200** contents available\n",
    "3. **Ten content** is enough to build a recommendation system, but there will be no discrimination established between the users. So we need aleast **20,000** records for recommendings songs to users **1440*10 = 14,400** content across realases, ratings and exposure to contents.\n",
    "4. **Minumum of 14,400** songs are required for our recommendation to work well with users. Here we are going to create a  **20,000** recommending contents\n",
    "5. The **Content Based Recommendation system** will have the content with are taken from our choice, here i have implemented some eda to find out the best possible songs that can be recommed to a user.\n",
    "    1. There will be **13** content according to the **lastest releases**\n",
    "        1. Inside this **six** content will be from the **within 30 days**\n",
    "        2. **seven** content from the rest of the lastest releases\n",
    "    2. Ther will be **13** content according to the **Ratings** given by the user\n",
    "        1. **six** content will be form the ratings **10 and 9** or **10**\n",
    "        2. **seven** content will the top 20,000/4 = 5,000 records except the top 10 records beacuse i will cause reputations of content problem\n",
    "    3. There will be 12 content in total from all the all the major content types** ( movies, sports, series and teasers).**\n",
    "        1. Every **three** content will be from the every **unique major category**\n",
    "    4. There will be **13** content that are **most watched by the user**\n",
    "        1. **six** content will be from the **top 50** in the list of **most watched content**\n",
    "        2. **seven** will be from the other content, since its is a pretty new platform it is ok to recommend from top 5000 in the list except the top 20.\n",
    "        \n",
    "##### Latest Release Table(13 contents)\n",
    "- **Release Date** can be taken from the **content** table\n",
    "\n",
    "##### Ratings Table(13 contents)\n",
    "- **Ratings** of the moveis, series, sports, teasers, can be seen from the **content**  table\n",
    "\n",
    "##### Content type ( movies, series, sports, teasers)(12 contents)\n",
    "-  **Content Type** can be taken from content table\n",
    "\n",
    "##### Relationship Table(13 contents)\n",
    "- \"Most watched content\"  =count of repeating content id's **content_id**\n",
    "\n",
    "## Disclaimer\n",
    "method 1:Here i am planning to fetch records total of **50 contents** to avoid showing the same content; Explanation : As because we are randomply selecting records from the content table for the multiple content items, there might be a problem of showing the same content to the user, So here i will finally show only the unqiue records from my list of **50 contents**\n"
   ]
  },
  {
   "cell_type": "markdown",
   "id": "3da464c0",
   "metadata": {},
   "source": [
    "---- \n",
    "\n",
    "# Model Building"
   ]
  },
  {
   "cell_type": "markdown",
   "id": "518b8690",
   "metadata": {},
   "source": [
    "### a. Release Date"
   ]
  },
  {
   "cell_type": "markdown",
   "id": "9591db86",
   "metadata": {},
   "source": [
    "#####  i). What are the contents released in  the past 30 days ? "
   ]
  },
  {
   "cell_type": "code",
   "execution_count": 31,
   "id": "9abd3fe6",
   "metadata": {
    "scrolled": true
   },
   "outputs": [
    {
     "name": "stdout",
     "output_type": "stream",
     "text": [
      "Last 30 days release\n",
      " 43143      cont_2407_2_2\n",
      "43730       cont_93_1_10\n",
      "14911      cont_685_5_11\n",
      "18522      cont_1561_4_2\n",
      "11409     cont_2299_4_30\n",
      "28030    cont_2796_12_13\n",
      "22021     cont_517_10_13\n",
      "Name: content_id, dtype: object\n"
     ]
    }
   ],
   "source": [
    "fresh_content = content[content['release_date'] > '2020-12-1']\n",
    "fresh_content = fresh_content['content_id']\n",
    "fresh_content= fresh_content.sample(7)\n",
    "print(\"Last 30 days release\\n\",fresh_content)"
   ]
  },
  {
   "cell_type": "markdown",
   "id": "e9f66f08",
   "metadata": {},
   "source": [
    "##### ii). What are the contents released in  the past 120 days ? "
   ]
  },
  {
   "cell_type": "code",
   "execution_count": 32,
   "id": "4bbe583d",
   "metadata": {
    "scrolled": true
   },
   "outputs": [
    {
     "name": "stdout",
     "output_type": "stream",
     "text": [
      "Between 30 to 150 days release \n",
      " 19482      cont_4716_7_8\n",
      "18765     cont_3190_20_7\n",
      "10017    cont_1286_13_31\n",
      "22427    cont_2876_15_17\n",
      "35999      cont_2019_8_9\n",
      "7124      cont_2089_9_18\n",
      "Name: content_id, dtype: object\n"
     ]
    }
   ],
   "source": [
    "latest_release =content[(content['release_date'] > '2020-08-1')&(content['release_date'] < '2020-11-30')]\n",
    "latest_release = latest_release['content_id']\n",
    "latest_release=latest_release.sample(6)\n",
    "print(\"Between 30 to 150 days release \\n\",latest_release)"
   ]
  },
  {
   "cell_type": "markdown",
   "id": "522774fb",
   "metadata": {},
   "source": [
    "### b. User Ratings"
   ]
  },
  {
   "cell_type": "markdown",
   "id": "d71963aa",
   "metadata": {},
   "source": [
    "##### i). What are the contents that have ratings of 10 ?"
   ]
  },
  {
   "cell_type": "code",
   "execution_count": 33,
   "id": "e36eec6e",
   "metadata": {},
   "outputs": [
    {
     "name": "stdout",
     "output_type": "stream",
     "text": [
      "Top 10 rating content\n",
      " 35336    cont_4103_3_11\n",
      "28015    cont_4667_1_42\n",
      "46925     cont_2792_2_8\n",
      "27622     cont_1098_8_9\n",
      "6753     cont_2876_14_7\n",
      "9263     cont_2946_4_24\n",
      "3954      cont_357_3_17\n",
      "Name: content_id, dtype: object\n"
     ]
    }
   ],
   "source": [
    "ten_rating= content[content['rating'] ==10]\n",
    "ten_rating = ten_rating['content_id']\n",
    "ten_rating = ten_rating.sample(7)\n",
    "print(\"Top 10 rating content\\n\",ten_rating)"
   ]
  },
  {
   "cell_type": "markdown",
   "id": "9f212779",
   "metadata": {},
   "source": [
    "###### ii). What are the top 5,000 contents with the ratings ? "
   ]
  },
  {
   "cell_type": "code",
   "execution_count": 34,
   "id": "657e90a0",
   "metadata": {},
   "outputs": [
    {
     "name": "stdout",
     "output_type": "stream",
     "text": [
      "Top 5000 rating contents\n",
      " 4756     cont_882_22_6\n",
      "4911     cont_2173_5_8\n",
      "7644      cont_328_4_9\n",
      "8174    cont_3409_2_17\n",
      "2679     cont_3542_2_6\n",
      "2844     cont_2615_1_7\n",
      "Name: content_id, dtype: object\n"
     ]
    }
   ],
   "source": [
    "top_rating = content[(content['rating'] >= 8) & (content['rating'] < 10)].reset_index().drop('index',axis=1).sort_values(by='rating',ascending=False)[:5000]\n",
    "top_rating = top_rating['content_id']\n",
    "top_rating = top_rating.sample(6)\n",
    "print(\"Top 5000 rating contents\\n\",top_rating)"
   ]
  },
  {
   "cell_type": "markdown",
   "id": "5db6730c",
   "metadata": {},
   "source": [
    "### c. Content Type"
   ]
  },
  {
   "cell_type": "markdown",
   "id": "f7c6144f",
   "metadata": {},
   "source": [
    "i). Any three from the **Movies**? "
   ]
  },
  {
   "cell_type": "code",
   "execution_count": 35,
   "id": "1681eec4",
   "metadata": {},
   "outputs": [
    {
     "name": "stdout",
     "output_type": "stream",
     "text": [
      "The movies content ?\n",
      " 22592    cont_3452\n",
      "28440    cont_3733\n",
      "23925     cont_503\n",
      "Name: content_id, dtype: object\n"
     ]
    }
   ],
   "source": [
    "movies = content[content['content_type'] =='movies']\n",
    "movies = movies['content_id']\n",
    "movies = movies.sample(3)\n",
    "print(\"The movies content ?\\n\",movies)"
   ]
  },
  {
   "cell_type": "markdown",
   "id": "30fe9888",
   "metadata": {},
   "source": [
    "ii). Any three from the **series** ?"
   ]
  },
  {
   "cell_type": "code",
   "execution_count": 36,
   "id": "391c4397",
   "metadata": {},
   "outputs": [
    {
     "name": "stdout",
     "output_type": "stream",
     "text": [
      " The series content?\n",
      " 38453    cont_3405_3_33\n",
      "31647     cont_3116_6_7\n",
      "43812    cont_1334_2_34\n",
      "Name: content_id, dtype: object\n"
     ]
    }
   ],
   "source": [
    "series = content[content['content_type'] =='series']\n",
    "series = series['content_id']\n",
    "series =series.sample(3)\n",
    "print(\" The series content?\\n\",series)"
   ]
  },
  {
   "cell_type": "markdown",
   "id": "8223ece2",
   "metadata": {},
   "source": [
    "iii). Any three from the **sports** ?  "
   ]
  },
  {
   "cell_type": "code",
   "execution_count": 37,
   "id": "ee78a44d",
   "metadata": {},
   "outputs": [
    {
     "name": "stdout",
     "output_type": "stream",
     "text": [
      " The sports content?\n",
      " 24073    cont_4262_1_9\n",
      "13578    cont_3181_1_4\n",
      "46564    cont_1705_1_9\n",
      "Name: content_id, dtype: object\n"
     ]
    }
   ],
   "source": [
    "sports = content[content['content_type'] =='sports']\n",
    "sports=sports['content_id']\n",
    "sports=sports.sample(3)\n",
    "print(\" The sports content?\\n\",sports)"
   ]
  },
  {
   "cell_type": "markdown",
   "id": "73aca74e",
   "metadata": {},
   "source": [
    "iv). Any three from the **teasers** ?"
   ]
  },
  {
   "cell_type": "code",
   "execution_count": 38,
   "id": "9ed5cf9e",
   "metadata": {},
   "outputs": [
    {
     "name": "stdout",
     "output_type": "stream",
     "text": [
      " The teasers content?\n",
      " 21429    cont_3625\n",
      "37787     cont_140\n",
      "976       cont_326\n",
      "Name: content_id, dtype: object\n"
     ]
    }
   ],
   "source": [
    "teasers = content[content['content_type'] =='teasers']\n",
    "teasers = teasers['content_id']\n",
    "teasers=teasers.sample(3)\n",
    "print(\" The teasers content?\\n\",teasers)"
   ]
  },
  {
   "cell_type": "markdown",
   "id": "ce1cf2b5",
   "metadata": {},
   "source": [
    "### d. Most Watched Content"
   ]
  },
  {
   "cell_type": "markdown",
   "id": "bcaa3fe3",
   "metadata": {},
   "source": [
    "i). seven content will be from the **top 50** in the list of most watched content"
   ]
  },
  {
   "cell_type": "code",
   "execution_count": 39,
   "id": "dca7058b",
   "metadata": {},
   "outputs": [
    {
     "name": "stdout",
     "output_type": "stream",
     "text": [
      "The Top 50 songs\n",
      " 0     cont_3497_10_10\n",
      "27     cont_135_10_12\n",
      "19     cont_3313_3_29\n",
      "17     cont_1327_11_9\n",
      "24       cont_311_3_4\n",
      "26      cont_4838_5_3\n",
      "38        cont_81_5_6\n",
      "Name: content_id, dtype: object\n"
     ]
    }
   ],
   "source": [
    "top_50_watched = relationship['content_id'].value_counts().reset_index()[:50]\n",
    "top_50_watched = top_50_watched.rename(columns={\"index\" : \"content_id\" , \"content_id\" : \"no_times\"})\n",
    "top_50_watched = top_50_watched['content_id'] \n",
    "top_50_watched= top_50_watched.sample(7)\n",
    "print(\"The Top 50 songs\\n\",top_50_watched)"
   ]
  },
  {
   "cell_type": "markdown",
   "id": "ca7eb140",
   "metadata": {},
   "source": [
    "ii). six content will be from the top 5000 contents."
   ]
  },
  {
   "cell_type": "code",
   "execution_count": 40,
   "id": "92143619",
   "metadata": {},
   "outputs": [
    {
     "name": "stdout",
     "output_type": "stream",
     "text": [
      "The Top 5000 songs\n",
      " 3073      cont_638_1_2\n",
      "1362     cont_693_1_40\n",
      "1634    cont_1130_3_30\n",
      "3614    cont_4499_9_24\n",
      "2499    cont_4213_24_3\n",
      "4775     cont_4457_1_3\n",
      "Name: content_id, dtype: object\n"
     ]
    }
   ],
   "source": [
    "top_5000_watched = relationship['content_id'].value_counts().reset_index()[50:5000]\n",
    "top_5000_watched = top_5000_watched.rename(columns={\"index\" : \"content_id\" , \"content_id\" : \"no_times\"})\n",
    "top_5000_watched = top_5000_watched['content_id']\n",
    "top_5000_watched = top_5000_watched.sample(6)\n",
    "print(\"The Top 5000 songs\\n\",top_5000_watched)"
   ]
  },
  {
   "cell_type": "markdown",
   "id": "12777e59",
   "metadata": {},
   "source": [
    "## Concating and Building Solution phase"
   ]
  },
  {
   "cell_type": "markdown",
   "id": "e09e15fd",
   "metadata": {},
   "source": [
    "#### Procedure\n",
    "By choosing **50** contents from the total contents we can say that there will be a **unique** content from the every table and there will be no repeating contents in our system"
   ]
  },
  {
   "cell_type": "markdown",
   "id": "bdc4c85b",
   "metadata": {},
   "source": [
    "i). concating"
   ]
  },
  {
   "cell_type": "code",
   "execution_count": 41,
   "id": "ae8d7c62",
   "metadata": {},
   "outputs": [],
   "source": [
    "recommending_items = pd.concat([fresh_content,latest_release,ten_rating,top_rating,movies,\n",
    "                  sports,series,teasers,top_50_watched,top_5000_watched])\n",
    "recommending_items = recommending_items.reset_index().drop('index',axis=1)"
   ]
  },
  {
   "cell_type": "markdown",
   "id": "ca5174b8",
   "metadata": {},
   "source": [
    "ii). unqiue items"
   ]
  },
  {
   "cell_type": "code",
   "execution_count": 42,
   "id": "afff90e8",
   "metadata": {},
   "outputs": [],
   "source": [
    "recommendations = recommending_items['content_id'].unique()[:10]"
   ]
  },
  {
   "cell_type": "code",
   "execution_count": 43,
   "id": "8acbdb48",
   "metadata": {},
   "outputs": [
    {
     "name": "stdout",
     "output_type": "stream",
     "text": [
      "The recommendation for a single user\n",
      " ['cont_2407_2_2', 'cont_93_1_10', 'cont_685_5_11', 'cont_1561_4_2', 'cont_2299_4_30', 'cont_2796_12_13', 'cont_517_10_13', 'cont_4716_7_8', 'cont_3190_20_7', 'cont_1286_13_31']\n"
     ]
    }
   ],
   "source": [
    "recommendations = recommendations.tolist()\n",
    "print(\"The recommendation for a single user\\n\",recommendations)"
   ]
  },
  {
   "cell_type": "markdown",
   "id": "e11d7c72",
   "metadata": {},
   "source": [
    "## Submission.json"
   ]
  },
  {
   "cell_type": "markdown",
   "id": "4ba440de",
   "metadata": {},
   "source": [
    "Now our code is working fine, we need to develop a **recommendation system** for all the users available in the test dataset"
   ]
  },
  {
   "cell_type": "code",
   "execution_count": 44,
   "id": "cb421a78",
   "metadata": {},
   "outputs": [],
   "source": [
    "test = pd.read_csv(\"../Dataset/test.csv\")"
   ]
  },
  {
   "cell_type": "code",
   "execution_count": 45,
   "id": "c8a7f065",
   "metadata": {},
   "outputs": [],
   "source": [
    "submissions = pd.read_json(\"../Dataset/sample_submission.json\")"
   ]
  },
  {
   "cell_type": "markdown",
   "id": "781c3692",
   "metadata": {},
   "source": [
    "The Below code is for the **Number of recommendations** for the **Number of records** in the **test** dataset<br>\n",
    "**It will take time to run**"
   ]
  },
  {
   "cell_type": "code",
   "execution_count": 46,
   "id": "37d167d6",
   "metadata": {},
   "outputs": [],
   "source": [
    "total_recommendations =[]\n",
    "for user in range(len(test['user_id'])):\n",
    " fresh_content = content[content['release_date'] > '2020-12-1']\n",
    " fresh_content = fresh_content['content_id']\n",
    " fresh_content= fresh_content.sample(7)\n",
    "\n",
    " latest_release =content[(content['release_date'] >  '2020-08-1')&(content['release_date'] < '2020-11-30')]\n",
    " latest_release = latest_release['content_id']\n",
    " latest_release=latest_release.sample(6)\n",
    "\n",
    " ten_rating= content[content['rating'] ==10]\n",
    " ten_rating = ten_rating['content_id']\n",
    " ten_rating = ten_rating.sample(7)\n",
    "\n",
    " top_rating = content[(content['rating'] >= 8) & (content['rating']   < 10)].reset_index().drop('index',axis= 1).sort_values(by='rating',ascending=False)[:5000]\n",
    " top_rating = top_rating['content_id']\n",
    " top_rating = top_rating.sample(6)\n",
    "\n",
    " movies = content[content['content_type'] =='movies']\n",
    " movies = movies['content_id']\n",
    " movies = movies.sample(3)\n",
    "\n",
    " series = content[content['content_type'] =='series']\n",
    " series = series['content_id']\n",
    " series =series.sample(3)\n",
    "\n",
    " sports = content[content['content_type'] =='sports']\n",
    " sports=sports['content_id']\n",
    " sports=sports.sample(3)\n",
    "\n",
    " teasers = content[content['content_type'] =='teasers']\n",
    " teasers = teasers['content_id']\n",
    " teasers=teasers.sample(3)\n",
    "\n",
    " top_50_watched = relationship['content_id'].value_counts().reset_index()[:50]\n",
    " top_50_watched = top_50_watched.rename(columns={\"index\" : \"content_id\" , \"content_id\" : \"no_times\"})\n",
    " top_50_watched = top_50_watched['content_id'] \n",
    " top_50_watched= top_50_watched.sample(7)\n",
    "\n",
    " top_5000_watched = relationship['content_id'].value_counts().reset_index()[50:5000]\n",
    " top_5000_watched = top_5000_watched.rename(columns={\"index\" : \"content_id\" , \"content_id\" : \"no_times\"})\n",
    " top_5000_watched = top_5000_watched['content_id']\n",
    " top_5000_watched = top_5000_watched.sample(6)\n",
    "\n",
    " recommending_items = pd.concat([fresh_content,latest_release,ten_rating,top_rating,movies,\n",
    "                  sports,series,teasers,top_50_watched,top_5000_watched])\n",
    " recommending_items = recommending_items.reset_index().drop('index',axis=1)\n",
    "\n",
    " recommendations = recommending_items['content_id'].unique()[:10]\n",
    " recommendations = recommendations.tolist()\n",
    " total_recommendations.append(recommendations)"
   ]
  },
  {
   "cell_type": "code",
   "execution_count": 47,
   "id": "508d5525",
   "metadata": {},
   "outputs": [],
   "source": [
    "total_recommendations_list = total_recommendations.copy()"
   ]
  },
  {
   "cell_type": "code",
   "execution_count": 48,
   "id": "4a54e231",
   "metadata": {},
   "outputs": [],
   "source": [
    "test['content_id'] = total_recommendations_list"
   ]
  },
  {
   "cell_type": "code",
   "execution_count": 82,
   "id": "66af9bb4",
   "metadata": {},
   "outputs": [
    {
     "name": "stdout",
     "output_type": "stream",
     "text": [
      "sytem build completed\n"
     ]
    }
   ],
   "source": [
    "print(\"sytem build completed\")"
   ]
  },
  {
   "cell_type": "code",
   "execution_count": 58,
   "id": "6a0b74e2",
   "metadata": {},
   "outputs": [],
   "source": [
    "test.to_csv(\"submission.csv\",index=False)"
   ]
  },
  {
   "cell_type": "markdown",
   "id": "9818ac64",
   "metadata": {},
   "source": [
    "##### Template\n",
    "{\n",
    "    \"user_34535@domain.com\": [\n",
    "        \"cont_2194_5_31\",\n",
    "        \"cont_426_1_15\",\n",
    "        \"cont_4510_1_9\",\n",
    "        \"cont_2738_2_11\",\n",
    "        \"cont_1130_7_16\",\n",
    "        \"cont_3582_5_1\",\n",
    "        \"cont_84_1_17\",\n",
    "        \"cont_3472_1_12\",\n",
    "        \"cont_1739_3_22\",\n",
    "        \"cont_3470_2_17\"\n",
    "    ],\n",
    "    \"user_37100@domain.com\": [\n",
    "        \"cont_3451_2_4\",\n",
    "        \"cont_4656_4_7\",\n",
    "        \"cont_302_1_10\",\n",
    "        \"cont_4900_1_37\",\n",
    "        \"cont_4168_13_3\",\n",
    "        \"cont_524_11_21\",\n",
    "        \"cont_4375_2_32\",\n",
    "        \"cont_2798_20_6\",\n",
    "        \"cont_265_3_24\",\n",
    "        \"cont_2394_1_18\"\n",
    "    ]\n",
    "}"
   ]
  },
  {
   "cell_type": "code",
   "execution_count": 85,
   "id": "331201e8",
   "metadata": {},
   "outputs": [],
   "source": [
    "import csv\n",
    "import json\n",
    "\n",
    "\n",
    "with open(\"submission.csv\",\"r\") as f:\n",
    " reader = csv.reader(f)\n",
    " data = {}\n",
    " for row in reader : \n",
    "        data[row[0]] = row[1].replace(\"''\",\"\")\n",
    "        \n",
    "with open(\"submissions.json\", \"w\") as f:\n",
    "\tjson.dump(data,f,indent=4)"
   ]
  },
  {
   "cell_type": "markdown",
   "id": "33b888af",
   "metadata": {},
   "source": [
    "## Completed"
   ]
  },
  {
   "cell_type": "code",
   "execution_count": null,
   "id": "d2172a7d",
   "metadata": {},
   "outputs": [],
   "source": [
    "## Thankyou for reading the "
   ]
  }
 ],
 "metadata": {
  "kernelspec": {
   "display_name": "Python 3",
   "language": "python",
   "name": "python3"
  },
  "language_info": {
   "codemirror_mode": {
    "name": "ipython",
    "version": 3
   },
   "file_extension": ".py",
   "mimetype": "text/x-python",
   "name": "python",
   "nbconvert_exporter": "python",
   "pygments_lexer": "ipython3",
   "version": "3.8.8"
  }
 },
 "nbformat": 4,
 "nbformat_minor": 5
}
